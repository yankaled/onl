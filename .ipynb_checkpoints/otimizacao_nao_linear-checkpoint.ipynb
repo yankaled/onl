{
 "cells": [
  {
   "cell_type": "code",
   "execution_count": 135,
   "metadata": {},
   "outputs": [],
   "source": [
    "import numpy as np\n",
    "from decimal import *\n",
    "import math"
   ]
  },
  {
   "cell_type": "code",
   "execution_count": 39,
   "metadata": {},
   "outputs": [],
   "source": [
    "def derivada(f, X, i):\n",
    "    h = 10**-10\n",
    "    Xh = []\n",
    "    for j in range(len(X)):\n",
    "        if j != i:  \n",
    "            Xh.append(X[j])\n",
    "        else:\n",
    "            Xh.append(X[i] + h)\n",
    "    return (f(Xh) - f(X))/h"
   ]
  },
  {
   "cell_type": "code",
   "execution_count": 144,
   "metadata": {},
   "outputs": [],
   "source": [
    "def fabrica_derivada(f, i):\n",
    "    def derivada_(X_):\n",
    "        h = 10**-10\n",
    "        Xh = []\n",
    "        for j in range(len(X_)):\n",
    "            if j != i:  \n",
    "                Xh.append(X_[j])\n",
    "            else:\n",
    "                Xh.append(X_[i] + h)\n",
    "        return (f(Xh) - f(X_))/h\n",
    "    return derivada_"
   ]
  },
  {
   "cell_type": "code",
   "execution_count": 23,
   "metadata": {},
   "outputs": [],
   "source": [
    "def gradiente(f, X):\n",
    "    grad = []\n",
    "    for i in range(len(X)):\n",
    "        grad.append(derivada(f, X, i))\n",
    "    return np.array(grad)"
   ]
  },
  {
   "cell_type": "code",
   "execution_count": 49,
   "metadata": {},
   "outputs": [],
   "source": [
    "def cholesky_positiva_semidef(A, n):\n",
    "    l = np.zeros((n, n))\n",
    "    y = np.zeros((n))\n",
    "    X = np.zeros((n))\n",
    "    \n",
    "    if (A[0][0] >= 0):\n",
    "        l[0][0] = math.sqrt(A[0][0])\n",
    "    else:\n",
    "        return False\n",
    "    \n",
    "    for j in range(1, n):        \n",
    "        l[j][0] = A[j][0]/l[0][0]\n",
    "    \n",
    "    for i in range(1, n-1):\n",
    "        sum_col = 0\n",
    "        for k in range(0, i):\n",
    "            sum_col = sum_col + math.pow(l[i][k], 2)\n",
    "        if A[i][i] >= 0:\n",
    "            l[i][i] = math.sqrt(A[i][i] - sum_col)\n",
    "        else:\n",
    "            return False\n",
    "        \n",
    "        for j in range(i+1, n):\n",
    "            sum_prod = 0\n",
    "            for k in range(0, i): sum_prod = sum_prod + l[j][k]*l[i][k]\n",
    "            l[j][i] = (A[j][i] - sum_prod)/l[i][i]\n",
    "            \n",
    "    sum_col_last = 0\n",
    "    for k in range(0, n-1): sum_col_last = sum_col_last + math.pow(l[n-1][k], 2) \n",
    "    \n",
    "    if(A[n-1][n-1] >=0 ):\n",
    "        l[n-1][n-1] = math.sqrt(A[n-1][n-1] - sum_col_last)\n",
    "    else:\n",
    "        return False\n",
    "    \n",
    "    return True"
   ]
  },
  {
   "cell_type": "markdown",
   "metadata": {},
   "source": [
    "Vamos utilizar um algoritmo com pivotamente parcial para resolver o sistema necessário para o algoritmo do método de Newton"
   ]
  },
  {
   "cell_type": "code",
   "execution_count": null,
   "metadata": {},
   "outputs": [],
   "source": [
    "def partial_pivoting(A, n):\n",
    "    X = [0]*n\n",
    "    nrow = [i for i in range(0, n)]\n",
    "    \n",
    "    for i in range(0, n):\n",
    "        p = i\n",
    "        pivo_maior =  math.fabs(A[nrow[p]][i])\n",
    "        for j in range(i, n):\n",
    "            candidato = math.fabs(A[nrow[j]][i])\n",
    "            if( candidato > pivo_maior ): \n",
    "                pivo_maior = candidato\n",
    "                p = j\n",
    "        \n",
    "        if(A[nrow[p]][i] == 0): return 'Sistema sem solução única'\n",
    "            \n",
    "        if(nrow[i] != nrow[p]):\n",
    "            ncopy = nrow[i]\n",
    "            nrow[i] = nrow[p]\n",
    "            nrow[p] = ncopy\n",
    "        \n",
    "        for j in range(i+1, n):\n",
    "            m = A[nrow[j]][i]/A[nrow[i]][i]\n",
    "            mA_nrowi = [m*a for a in A[nrow[i]]]\n",
    "            \n",
    "            A[nrow[j]] = [a_nrowj - ma_nrowi for a_nrowj, ma_nrowi in zip(A[nrow[j]], mA_nrowi)]\n",
    "            \n",
    "    if(A[nrow[n-1]][n-1] == 0): return 'Sistema sem solução única'\n",
    "    \n",
    "    X[n-1] = A[nrow[n-1]][n]/A[nrow[n-1]][n-1]\n",
    "    \n",
    "    for i in range(n-2, -1, -1):\n",
    "        sum_lin = 0\n",
    "        for j in range(i, n):\n",
    "            sum_lin = sum_lin + A[nrow[i]][j]*X[j]\n",
    "        X[i] = ( A[nrow[i]][n] - sum_lin ) / A[nrow[i]][i]\n",
    "    \n",
    "    determinante = A[nrow[0]][0]\n",
    "    for i in range(1, n):\n",
    "        determinante = determinante*A[nrow[i]][i]\n",
    "    return [X, determinante]"
   ]
  },
  {
   "cell_type": "markdown",
   "metadata": {},
   "source": [
    "Funções de teste"
   ]
  },
  {
   "cell_type": "code",
   "execution_count": 205,
   "metadata": {},
   "outputs": [],
   "source": [
    "def f2(X):\n",
    "    return X[0]**2 + X[1]**2"
   ]
  },
  {
   "cell_type": "code",
   "execution_count": 213,
   "metadata": {},
   "outputs": [],
   "source": [
    "def f1(X):\n",
    "    return X[0]**3 + X[1]**4"
   ]
  },
  {
   "cell_type": "markdown",
   "metadata": {},
   "source": [
    "Método do gradiente (recursivo) com número de passos máximo"
   ]
  },
  {
   "cell_type": "code",
   "execution_count": 212,
   "metadata": {},
   "outputs": [],
   "source": [
    "def metodo_gradiente(f, Xk, K, K_max):\n",
    "    if K > K_max:\n",
    "        return False\n",
    "    grad_f = gradiente(f, Xk)\n",
    "    dk = -grad_f\n",
    "    alpha = 0.01\n",
    "    t = 0.5\n",
    "    while( f(Xk + t*dk) > f(Xk) + t*alpha*np.dot(grad_f, dk)):\n",
    "        t = 0.5*t\n",
    "    Xk1 = Xk + t*dk\n",
    "    for i in range(len(Xk)):\n",
    "        if math.fabs(Xk1[i] - Xk[i]) > 0.01:\n",
    "            return metodo_gradiente(f, Xk1, K + 1, K_max)\n",
    "    return Xk"
   ]
  },
  {
   "cell_type": "code",
   "execution_count": null,
   "metadata": {},
   "outputs": [],
   "source": []
  },
  {
   "cell_type": "code",
   "execution_count": null,
   "metadata": {},
   "outputs": [],
   "source": []
  }
 ],
 "metadata": {
  "kernelspec": {
   "display_name": "Python 3",
   "language": "python",
   "name": "python3"
  },
  "language_info": {
   "codemirror_mode": {
    "name": "ipython",
    "version": 3
   },
   "file_extension": ".py",
   "mimetype": "text/x-python",
   "name": "python",
   "nbconvert_exporter": "python",
   "pygments_lexer": "ipython3",
   "version": "3.7.3"
  }
 },
 "nbformat": 4,
 "nbformat_minor": 2
}
