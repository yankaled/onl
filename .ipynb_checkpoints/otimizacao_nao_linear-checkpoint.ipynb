{
 "cells": [
  {
   "cell_type": "code",
   "execution_count": 71,
   "metadata": {},
   "outputs": [],
   "source": [
    "import numpy as np\n",
    "import math"
   ]
  },
  {
   "cell_type": "code",
   "execution_count": 118,
   "metadata": {},
   "outputs": [],
   "source": [
    "def truncador(numero):\n",
    "    if(type(numero)) == float:\n",
    "        numero_str = str(numero)\n",
    "        inteira, decimal = numero_str.split('.')\n",
    "        digitos_decimal = list(decimal)    \n",
    "        if len(digitos_decimal) >= 3:\n",
    "            if digitos_decimal[0] == '9' and digitos_decimal[1] == '9' and digitos_decimal[2] == '9':\n",
    "                return math.ceil(numero)\n",
    "        return math.floor(numero*10**3)/(10**3)\n",
    "    else:\n",
    "        return numero"
   ]
  },
  {
   "cell_type": "code",
   "execution_count": 4,
   "metadata": {},
   "outputs": [],
   "source": [
    "def derivada(f, X, i):\n",
    "    h = 10**-10\n",
    "    Xh = []\n",
    "    for j in range(len(X)):\n",
    "        if j != i:  \n",
    "            Xh.append(X[j])\n",
    "        else:\n",
    "            Xh.append(X[i] + h)\n",
    "    return (f(Xh) - f(X))/h"
   ]
  },
  {
   "cell_type": "code",
   "execution_count": 106,
   "metadata": {},
   "outputs": [],
   "source": [
    "def gradiente(f, X):\n",
    "    grad = []\n",
    "    for i in range(len(X)):\n",
    "        grad.append(truncador(derivada(f, X, i)))\n",
    "    return np.array(grad)"
   ]
  },
  {
   "cell_type": "code",
   "execution_count": 7,
   "metadata": {},
   "outputs": [],
   "source": [
    "def cholesky_positiva_semidef(A, n):\n",
    "    l = np.zeros((n, n))\n",
    "    y = np.zeros((n))\n",
    "    X = np.zeros((n))\n",
    "    \n",
    "    if (A[0][0] >= 0):\n",
    "        l[0][0] = math.sqrt(A[0][0])\n",
    "    else:\n",
    "        return False\n",
    "    \n",
    "    for j in range(1, n):        \n",
    "        l[j][0] = A[j][0]/l[0][0]\n",
    "    \n",
    "    for i in range(1, n-1):\n",
    "        sum_col = 0\n",
    "        for k in range(0, i):\n",
    "            sum_col = sum_col + math.pow(l[i][k], 2)\n",
    "        if A[i][i] >= 0:\n",
    "            l[i][i] = math.sqrt(A[i][i] - sum_col)\n",
    "        else:\n",
    "            return False\n",
    "        \n",
    "        for j in range(i+1, n):\n",
    "            sum_prod = 0\n",
    "            for k in range(0, i): sum_prod = sum_prod + l[j][k]*l[i][k]\n",
    "            l[j][i] = (A[j][i] - sum_prod)/l[i][i]\n",
    "            \n",
    "    sum_col_last = 0\n",
    "    for k in range(0, n-1): sum_col_last = sum_col_last + math.pow(l[n-1][k], 2) \n",
    "    \n",
    "    if(A[n-1][n-1] >=0 ):\n",
    "        l[n-1][n-1] = math.sqrt(A[n-1][n-1] - sum_col_last)\n",
    "    else:\n",
    "        return False\n",
    "    \n",
    "    return True"
   ]
  },
  {
   "cell_type": "markdown",
   "metadata": {},
   "source": [
    "Vamos utilizar um algoritmo com pivotamente parcial para resolver o sistema necessário para o algoritmo do método de Newton"
   ]
  },
  {
   "cell_type": "code",
   "execution_count": 130,
   "metadata": {},
   "outputs": [],
   "source": [
    "def pivotamento_parcial(A, n):\n",
    "    X = [0]*n\n",
    "    nrow = [i for i in range(0, n)]\n",
    "    \n",
    "    for i in range(0, n):\n",
    "        p = i\n",
    "        pivo_maior =  math.fabs(A[nrow[p]][i])\n",
    "        for j in range(i, n):\n",
    "            candidato = math.fabs(A[nrow[j]][i])\n",
    "            if( candidato > pivo_maior ): \n",
    "                pivo_maior = candidato\n",
    "                p = j\n",
    "        \n",
    "        if(A[nrow[p]][i] == 0): return 'Sistema sem solução única'\n",
    "            \n",
    "        if(nrow[i] != nrow[p]):\n",
    "            ncopy = nrow[i]\n",
    "            nrow[i] = nrow[p]\n",
    "            nrow[p] = ncopy\n",
    "        \n",
    "        for j in range(i+1, n):\n",
    "            m = A[nrow[j]][i]/A[nrow[i]][i]\n",
    "            mA_nrowi = [m*a for a in A[nrow[i]]]\n",
    "            \n",
    "            A[nrow[j]] = [a_nrowj - ma_nrowi for a_nrowj, ma_nrowi in zip(A[nrow[j]], mA_nrowi)]\n",
    "            \n",
    "    if(A[nrow[n-1]][n-1] == 0): return 'Sistema sem solução única'\n",
    "    \n",
    "    X[n-1] = A[nrow[n-1]][n]/A[nrow[n-1]][n-1]\n",
    "    \n",
    "    for i in range(n-2, -1, -1):\n",
    "        sum_lin = 0\n",
    "        for j in range(i, n):\n",
    "            sum_lin = sum_lin + A[nrow[i]][j]*X[j]\n",
    "        X[i] = ( A[nrow[i]][n] - sum_lin ) / A[nrow[i]][i]\n",
    "\n",
    "    return X"
   ]
  },
  {
   "cell_type": "code",
   "execution_count": 62,
   "metadata": {},
   "outputs": [],
   "source": [
    "def derivada_segunda(f, X, i, j):\n",
    "    h = 10**-6\n",
    "    Xhh = []\n",
    "    Xh_ = []\n",
    "    Xh = []\n",
    "    for k in range(len(X)):\n",
    "        if k == i and k == j:\n",
    "            Xh.append(X[k] + h)\n",
    "            Xh_.append(X[k] + h)\n",
    "        elif k == i and k != j:\n",
    "            Xh.append(X[k] + h)\n",
    "            Xh_.append(X[k])\n",
    "        elif k != i and k == j:\n",
    "            Xh.append(X[k])\n",
    "            Xh_.append(X[k] + h)\n",
    "        else:\n",
    "            Xh.append(X[k])\n",
    "            Xh_.append(X[k])\n",
    "            \n",
    "    for k in range(len(Xh)):\n",
    "        if k == j:\n",
    "            Xhh.append(Xh[k] + h)\n",
    "        else:\n",
    "            Xhh.append(Xh[k])\n",
    "            \n",
    "    return (f(Xhh) - f(Xh_) -f(Xh) + f(X))/(h**2)"
   ]
  },
  {
   "cell_type": "code",
   "execution_count": 63,
   "metadata": {},
   "outputs": [],
   "source": [
    "def hessiana(f, X):\n",
    "    n = len(X)\n",
    "    H = np.zeros((n, n))\n",
    "    for i in range(n):\n",
    "        for j in range(n):\n",
    "            H[i][j] = truncador(derivada_segunda(f, X, i, j))\n",
    "    return H"
   ]
  },
  {
   "cell_type": "markdown",
   "metadata": {},
   "source": [
    "## Algoritmos"
   ]
  },
  {
   "cell_type": "code",
   "execution_count": 147,
   "metadata": {},
   "outputs": [],
   "source": [
    "def metodo_gradiente(f, Xk, K, K_max, TOL):\n",
    "    if K > K_max:\n",
    "        return False\n",
    "    grad_f = gradiente(f, Xk)\n",
    "    dk = -grad_f\n",
    "    alpha = 0.01\n",
    "    t = 0.5\n",
    "    while( f(Xk + t*dk) > f(Xk) + t*alpha*np.dot(grad_f, dk)):\n",
    "        t = 0.5*t\n",
    "    Xk1 = Xk + t*dk\n",
    "    for i in range(len(Xk)):\n",
    "        if math.fabs(Xk1[i] - Xk[i]) > TOL:\n",
    "            return metodo_gradiente(f, Xk1, K + 1, K_max, TOL)\n",
    "    return Xk"
   ]
  },
  {
   "cell_type": "code",
   "execution_count": 145,
   "metadata": {},
   "outputs": [],
   "source": [
    "def metodo_newton(f, Xk, K, K_max, TOL):\n",
    "    if K > K_max:\n",
    "        return False\n",
    "    H = hessiana(f, Xk)\n",
    "    grad_f = gradiente(f, Xk)\n",
    "    H_aumentada = []\n",
    "    for i in range(len(H)):\n",
    "        H_aumentada.append([])\n",
    "        for j in range(len(H[i])):\n",
    "            H_aumentada[i].append(H[i][j])\n",
    "        H_aumentada[i].append(-grad_f[i])\n",
    "\n",
    "    dk = np.array(pivotamento_parcial(H_aumentada, len(H_aumentada)))\n",
    "    alpha = 0.01\n",
    "    t = 0.5\n",
    "    while( f(Xk + t*dk) > f(Xk) + t*alpha*np.dot(grad_f, dk)):\n",
    "        t = 0.5*t\n",
    "    Xk1 = Xk + t*dk\n",
    "    for i in range(len(Xk)):\n",
    "        if math.fabs(Xk1[i] - Xk[i]) > TOL:\n",
    "            return metodo_newton(f, Xk1, K + 1, K_max, TOL)\n",
    "    return Xk"
   ]
  },
  {
   "cell_type": "markdown",
   "metadata": {},
   "source": [
    "## Funções para o Estudo"
   ]
  },
  {
   "cell_type": "code",
   "execution_count": 9,
   "metadata": {},
   "outputs": [],
   "source": [
    "def f2(X):\n",
    "    return X[0]**2 + X[1]**2"
   ]
  },
  {
   "cell_type": "code",
   "execution_count": 10,
   "metadata": {},
   "outputs": [],
   "source": [
    "def f1(X):\n",
    "    return X[0]**3 + X[1]**4"
   ]
  },
  {
   "cell_type": "code",
   "execution_count": 11,
   "metadata": {},
   "outputs": [],
   "source": [
    "def fxy(X):\n",
    "    return X[0]*X[1]"
   ]
  },
  {
   "cell_type": "code",
   "execution_count": 12,
   "metadata": {},
   "outputs": [],
   "source": [
    "def fxy_(X):\n",
    "    return X[0]*(X[1]**2)"
   ]
  },
  {
   "cell_type": "code",
   "execution_count": null,
   "metadata": {},
   "outputs": [],
   "source": []
  },
  {
   "cell_type": "code",
   "execution_count": null,
   "metadata": {},
   "outputs": [],
   "source": []
  },
  {
   "cell_type": "code",
   "execution_count": null,
   "metadata": {},
   "outputs": [],
   "source": []
  },
  {
   "cell_type": "code",
   "execution_count": null,
   "metadata": {},
   "outputs": [],
   "source": []
  },
  {
   "cell_type": "code",
   "execution_count": null,
   "metadata": {},
   "outputs": [],
   "source": []
  },
  {
   "cell_type": "code",
   "execution_count": null,
   "metadata": {},
   "outputs": [],
   "source": []
  },
  {
   "cell_type": "code",
   "execution_count": null,
   "metadata": {},
   "outputs": [],
   "source": []
  },
  {
   "cell_type": "code",
   "execution_count": null,
   "metadata": {},
   "outputs": [],
   "source": []
  },
  {
   "cell_type": "code",
   "execution_count": null,
   "metadata": {},
   "outputs": [],
   "source": []
  }
 ],
 "metadata": {
  "kernelspec": {
   "display_name": "Python 3",
   "language": "python",
   "name": "python3"
  },
  "language_info": {
   "codemirror_mode": {
    "name": "ipython",
    "version": 3
   },
   "file_extension": ".py",
   "mimetype": "text/x-python",
   "name": "python",
   "nbconvert_exporter": "python",
   "pygments_lexer": "ipython3",
   "version": "3.7.3"
  }
 },
 "nbformat": 4,
 "nbformat_minor": 2
}
